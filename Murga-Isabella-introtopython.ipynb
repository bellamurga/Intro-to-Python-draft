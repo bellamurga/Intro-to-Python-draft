{
 "cells": [
  {
   "cell_type": "markdown",
   "metadata": {},
   "source": [
    "## Intro to Python\n",
    "183406\n",
    "\n",
    "Murga\n",
    "\n",
    "3 BS COMTECH"
   ]
  },
  {
   "cell_type": "code",
   "execution_count": 20,
   "metadata": {},
   "outputs": [
    {
     "name": "stdout",
     "output_type": "stream",
     "text": [
      "Enter first number: 1\n",
      "Enter second number: 2\n",
      "Enter third number: 3\n",
      "The average is 2.0\n"
     ]
    }
   ],
   "source": [
    "# take inputs\n",
    "firstnumber = float(input('Enter first number: '))\n",
    "secondnumber = float(input('Enter second number: '))\n",
    "thirdnumber = float(input('Enter third number: '))\n",
    "\n",
    "# calculate average\n",
    "average = (firstnumber + secondnumber + thirdnumber)/3\n",
    "\n",
    "# display result\n",
    "print('The average is', average)"
   ]
  },
  {
   "cell_type": "code",
   "execution_count": 21,
   "metadata": {},
   "outputs": [
    {
     "name": "stdout",
     "output_type": "stream",
     "text": [
      "Enter first number: 1\n",
      "Enter second number: 1\n",
      "Enter third number: 1\n",
      "The average is 1.0\n"
     ]
    }
   ],
   "source": [
    "# take inputs\n",
    "firstnumber = float(input('Enter first number: '))\n",
    "secondnumber = float(input('Enter second number: '))\n",
    "thirdnumber = float(input('Enter third number: '))\n",
    "\n",
    "# calculate average\n",
    "average = (firstnumber + secondnumber + thirdnumber)/3\n",
    "\n",
    "# display result\n",
    "print('The average is', average)"
   ]
  },
  {
   "cell_type": "code",
   "execution_count": 22,
   "metadata": {},
   "outputs": [
    {
     "name": "stdout",
     "output_type": "stream",
     "text": [
      "Enter first number: 2\n",
      "Enter second number: 4\n",
      "Enter third number: 6\n",
      "The average is 4.0\n"
     ]
    }
   ],
   "source": [
    "# take inputs\n",
    "firstnumber = float(input('Enter first number: '))\n",
    "secondnumber = float(input('Enter second number: '))\n",
    "thirdnumber = float(input('Enter third number: '))\n",
    "\n",
    "# calculate average\n",
    "average = (firstnumber + secondnumber + thirdnumber)/3\n",
    "\n",
    "# display result\n",
    "print('The average is', average)"
   ]
  },
  {
   "cell_type": "code",
   "execution_count": null,
   "metadata": {},
   "outputs": [],
   "source": []
  }
 ],
 "metadata": {
  "kernelspec": {
   "display_name": "Python 3",
   "language": "python",
   "name": "python3"
  },
  "language_info": {
   "codemirror_mode": {
    "name": "ipython",
    "version": 3
   },
   "file_extension": ".py",
   "mimetype": "text/x-python",
   "name": "python",
   "nbconvert_exporter": "python",
   "pygments_lexer": "ipython3",
   "version": "3.8.5"
  }
 },
 "nbformat": 4,
 "nbformat_minor": 4
}
